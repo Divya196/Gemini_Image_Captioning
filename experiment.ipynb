{
 "cells": [
  {
   "cell_type": "code",
   "execution_count": null,
   "metadata": {},
   "outputs": [],
   "source": [
    "#user upload file in dicom single file \n",
    "# save dicom file in folder\n",
    "# covert dicom to jpeg , save jpeg file in folder\n",
    "# model has to predict using jpeg file."
   ]
  },
  {
   "cell_type": "code",
   "execution_count": null,
   "metadata": {},
   "outputs": [],
   "source": [
    "import streamlit as st\n",
    "import pydicom\n",
    "\n",
    "def upload_dicom_file():\n",
    "    uploaded_file = st.file_uploader(\"Upload a DICOM file\", type=\"dcm\")\n",
    "    if uploaded_file is not None:\n",
    "        dicom_file = pydicom.read_file(uploaded_file)\n",
    "        return dicom_file\n",
    "    else:\n",
    "        return None\n",
    "\n",
    "dicom_file = upload_dicom_file()\n",
    "if dicom_file is not None:\n",
    "    st.write(dicom_file)\n",
    "else:\n",
    "    st.write(\"No DICOM file uploaded\")"
   ]
  },
  {
   "cell_type": "code",
   "execution_count": null,
   "metadata": {},
   "outputs": [],
   "source": [
    "import streamlit as st\n",
    "import pydicom\n",
    "import optparse\n",
    "\n",
    "def save_dicom_file(dicom_file, folder_path):\n",
    "  \"\"\"Saves a DICOM file to a folder.\n",
    "\n",
    "  Args:\n",
    "    dicom_file: The DICOM file to save.\n",
    "    folder_path: The path to the folder where the DICOM file should be saved.\n",
    "  \"\"\"\n",
    "\n",
    "  # Create the folder if it does not exist.\n",
    "  if not os.path.exists(folder_path):\n",
    "    os.makedirs(folder_path)\n",
    "\n",
    "  # Save the DICOM file to the folder.\n",
    "  dicom_file.save_as(os.path.join(folder_path, dicom_file.filename))\n",
    "\n",
    "# Get the DICOM file uploaded by the user.\n",
    "dicom_file = st.file_uploader(\"Upload DICOM file\")\n",
    "\n",
    "# If the user has uploaded a DICOM file, save it to the folder.\n",
    "if dicom_file is not None:\n",
    "  save_dicom_file(dicom_file, \"dicom_files\")\n",
    "\n",
    "# Display a message to the user.\n",
    "st.text(\"The DICOM file has been saved to the 'dicom_files' folder.\")"
   ]
  },
  {
   "cell_type": "code",
   "execution_count": null,
   "metadata": {},
   "outputs": [],
   "source": [
    "import pydicom\n",
    "import numpy as np\n",
    "from PIL import Image\n",
    "import streamlit as st\n",
    "\n",
    "def dicom_to_jpg(dicom_file):\n",
    "  \"\"\"Converts a DICOM file to a JPG file.\n",
    "\n",
    "  Args:\n",
    "    dicom_file: The path to the DICOM file.\n",
    "\n",
    "  Returns:\n",
    "    A PIL Image object containing the converted JPG image.\n",
    "  \"\"\"\n",
    "\n",
    "  # Read the DICOM file.\n",
    "  dicom_image = pydicom.dcmread(dicom_file)\n",
    "\n",
    "  # Get the pixel data.\n",
    "  pixel_data = dicom_image.pixel_array\n",
    "\n",
    "  # Convert the pixel data to RGB.\n",
    "  rgb_pixel_data = np.stack([pixel_data, pixel_data, pixel_data], axis=2)\n",
    "\n",
    "  # Create a PIL Image object from the RGB pixel data.\n",
    "  image = Image.fromarray(rgb_pixel_data, mode='RGB')\n",
    "\n",
    "  # Return the PIL Image object.\n",
    "  return image\n",
    "\n",
    "# Get the path to the DICOM file from the user.\n",
    "dicom_file_path = st.file_picker('Select a DICOM file')\n",
    "\n",
    "# Convert the DICOM file to a JPG file.\n",
    "jpg_image = dicom_to_jpg(dicom_file_path)\n",
    "\n",
    "# Display the JPG image.\n",
    "st.image(jpg_image)"
   ]
  },
  {
   "cell_type": "code",
   "execution_count": 7,
   "metadata": {},
   "outputs": [
    {
     "ename": "SyntaxError",
     "evalue": "invalid syntax (3467088838.py, line 2)",
     "output_type": "error",
     "traceback": [
      "\u001b[1;36m  Cell \u001b[1;32mIn[7], line 2\u001b[1;36m\u001b[0m\n\u001b[1;33m    file_path = (\"dicom_files\\MRBRAIN.DCM\", encoding='utf-8')\u001b[0m\n\u001b[1;37m                                                    ^\u001b[0m\n\u001b[1;31mSyntaxError\u001b[0m\u001b[1;31m:\u001b[0m invalid syntax\n"
     ]
    }
   ],
   "source": [
    "import os\n",
    "\n",
    "file_path = (\"MRBRAIN.DCM\", encoding='utf-8')\n",
    "\n",
    "# Check the file\n",
    "\n",
    "is_file = os.path.isfile(file_path)\n",
    "\n",
    "# If it’s a file, open and print the file\n",
    "\n",
    "# content.\n",
    "\n",
    "if (is_file):\n",
    "    file = open(file_path)\n",
    "\n",
    "# Read the file\n",
    "\n",
    "    file_content = file.read()\n",
    "\n",
    "# Print the file\n",
    "    print(file_content)\n",
    "\n",
    "# Close the file handle\n",
    "\n",
    "    file.close()\n",
    "\n",
    "else:\n",
    "\n",
    "    print(\"Not a file.\")"
   ]
  },
  {
   "cell_type": "code",
   "execution_count": null,
   "metadata": {},
   "outputs": [],
   "source": []
  }
 ],
 "metadata": {
  "kernelspec": {
   "display_name": "Python 3",
   "language": "python",
   "name": "python3"
  },
  "language_info": {
   "codemirror_mode": {
    "name": "ipython",
    "version": 3
   },
   "file_extension": ".py",
   "mimetype": "text/x-python",
   "name": "python",
   "nbconvert_exporter": "python",
   "pygments_lexer": "ipython3",
   "version": "3.10.0"
  }
 },
 "nbformat": 4,
 "nbformat_minor": 2
}
